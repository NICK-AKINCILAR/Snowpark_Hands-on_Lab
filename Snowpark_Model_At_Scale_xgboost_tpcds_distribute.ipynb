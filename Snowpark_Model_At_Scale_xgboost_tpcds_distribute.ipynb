{
 "cells": [
  {
   "attachments": {},
   "cell_type": "markdown",
   "metadata": {},
   "source": [
    "# Snowpark Python - TPC DS  - Customer Lifetime Value\n",
    "\n",
    "This demo utilizes the [TPC DS sample](https://docs.snowflake.com/en/user-guide/sample-data-tpcds.html) dataset that is made available via  Snowflake share. It can be configured to run on either the 10 TB or the 100 TB version of the dataset. \n",
    "\n",
    "This illustrates how to utilize Snowpark for feature engineering, training, inference, streams, and tasks to answer a common question for retailers: What is the value of a customer across all sales channels? \n",
    "\n",
    "We will use sales data, customer information, and demographic data to see if we can accurately predict the lifetime value of a customer.\n",
    "\n",
    "In the repo you can also find a streamlit app showing how to connect to snowflake as a data source.\n",
    "Streamlit will soon be available in Snowsight as well."
   ]
  },
  {
   "attachments": {},
   "cell_type": "markdown",
   "metadata": {},
   "source": [
    "### Setup:\n",
    "The TPC DS data is available already to you in your Snowflake account as shared database utlizing Snowflake's data sharing. This means you as the user will never incur the costs of storing this large dataset. \n",
    "\n",
    " 1. Create a conda environment using the provided *environment.yml* file. \n",
    "    1. `conda env create -f environment.yml `\n",
    "    2. Activate that created conda environment by `conda activate snowpark_ml_test`\n",
    " 2. Edit the *creds.json* file to with your account information to connect to your account. \n",
    " 3. Load Jupyter or equivalent notebook to begin executing the notebook. \n",
    " 4. Refer to creds(example).json on how to configure login credentials\n",
    "\n",
    "### Table of Contents:\n",
    "1. Connecting to Snowflake\n",
    "2. Environment Setup\n",
    "3. Feature Engineering\n",
    "4. Model Training\n",
    "5. Infer Predictions\n",
    "6. Streams and Tasks\n",
    "\n",
    "### Cost Performance\n",
    "\n",
    "Below is a table of some observed performance stats I have observed in AWS US East Ohio. All times reported in seconds and assuming enterprise edition list pricing. \n",
    "\n",
    "| Dataset       \t| Data prep/Feature Eng Warehouse \t| Snowpark Optimized Warehouse \t| Time for feature eng/prep \t| Cost for feature eng/prep \t| Time for training \t| Cost for training \t| Time for inference \t| Cost for inference \t|\n",
    "|---------------\t|---------------------------------\t|------------------------------\t|---------------------------\t|---------------------------\t|-------------------\t|-------------------\t|--------------------\t|--------------------\t|\n",
    "| TPC-DS 10 TB  \t| 3XL                             \t| Medium                       \t| 60                        \t| $3.20                     \t| 1400.4            \t| $7.07             \t| 9.8                \t| $0.52              \t|\n",
    "| TPC-DS 100 TB \t| 3XL                             \t| Medium                       \t| 311.6                     \t| $16.51                    \t| 2210              \t| $11.05            \t| 24.6               \t| $1.30              \t|"
   ]
  },
  {
   "attachments": {},
   "cell_type": "markdown",
   "metadata": {},
   "source": [
    "# Connecting to Snowflake"
   ]
  },
  {
   "cell_type": "code",
   "execution_count": 2,
   "metadata": {},
   "outputs": [],
   "source": [
    "import snowflake.snowpark\n",
    "from snowflake.snowpark import functions as F\n",
    "from snowflake.snowpark.session import Session\n",
    "from snowflake.snowpark import version as v\n",
    "from snowflake.snowpark.types import (\n",
    "    Variant,\n",
    "    IntegerType,\n",
    "    BooleanType,\n",
    "    FloatType,\n",
    "    StringType,\n",
    "    DoubleType,\n",
    "    BooleanType,\n",
    "    DateType,\n",
    "    StructType,\n",
    "    StructField\n",
    ")\n",
    "from snowflake.snowpark.functions import (\n",
    "    udtf,\n",
    "    udf,\n",
    "    col,\n",
    "    lit,\n",
    "    row_number,\n",
    "    table_function\n",
    ")\n",
    "import json \n",
    "\n",
    "#See creds.json for an example on how to build your connection string.\n",
    "with open('creds.json') as f:\n",
    "    data = json.load(f)\n",
    "    USERNAME = data['user']\n",
    "    PASSWORD = data['password']\n",
    "    SF_ACCOUNT = data['account']\n",
    "    SF_WH = data['warehouse']\n",
    "    SF_ROLE = data['role']\n",
    "\n",
    "CONNECTION_PARAMETERS = {\n",
    "   \"account\": SF_ACCOUNT,\n",
    "   \"user\": USERNAME,\n",
    "   \"password\": PASSWORD,\n",
    "   \"role\": SF_ROLE\n",
    "}\n",
    "\n",
    "session = Session.builder.configs(CONNECTION_PARAMETERS).create()"
   ]
  },
  {
   "cell_type": "markdown",
   "metadata": {},
   "source": [
    "## Environment Setup"
   ]
  },
  {
   "cell_type": "code",
   "execution_count": 2,
   "metadata": {},
   "outputs": [
    {
     "data": {
      "text/plain": [
       "[Row(status='SNOWFLAKE_SAMPLE_DATA already exists, statement succeeded.')]"
      ]
     },
     "execution_count": 2,
     "metadata": {},
     "output_type": "execute_result"
    }
   ],
   "source": [
    "# using data marketplace, copy down sample_data into snowflake. This can be done with any data on the marketplace made available to your account\n",
    "session.use_role('ACCOUNTADMIN')\n",
    "session.sql('''create database if not exists snowflake_sample_data from share sfc_samples.sample_data''').collect()"
   ]
  },
  {
   "cell_type": "code",
   "execution_count": 3,
   "metadata": {},
   "outputs": [],
   "source": [
    "# Let's create the context for our demo. \n",
    "# Note that I am going to use a 3X-Large warehouse for the demo for the sake of time.\n",
    "# refer to the readme for cost comparison of warehousing sizing for the demo.\n",
    "\n",
    "session.sql('CREATE DATABASE IF NOT EXISTS tpcds_xgboost').collect()\n",
    "session.sql('CREATE SCHEMA IF NOT EXISTS tpcds_xgboost.demo').collect()\n",
    "# session.sql(\"create or replace warehouse FE_AND_INFERENCE_WH with warehouse_size='3X-LARGE'\").collect()\n",
    "session.sql(\"create or replace warehouse FE_AND_INFERENCE_WH with warehouse_size='X-LARGE'\").collect()\n",
    "session.sql(\"create or replace warehouse snowpark_opt_wh with warehouse_size = 'MEDIUM' warehouse_type = 'SNOWPARK-OPTIMIZED'\").collect()\n",
    "session.sql(\"alter warehouse snowpark_opt_wh set max_concurrency_level = 1\").collect()\n",
    "session.use_warehouse('FE_AND_INFERENCE_WH')"
   ]
  },
  {
   "attachments": {},
   "cell_type": "markdown",
   "metadata": {},
   "source": [
    "Select either 100 or 10 for the TPC-DS Dataset size to use below. See (https://docs.snowflake.com/en/user-guide/sample-data-tpcds.html)[here] for more information If you choose 100, I recommend >= 3XL warehouse. "
   ]
  },
  {
   "cell_type": "code",
   "execution_count": 98,
   "metadata": {},
   "outputs": [],
   "source": [
    "# Selecting either the 10TB or 100TB set of sample data\n",
    "TPCDS_SIZE_PARAM = 10\n",
    "SNOWFLAKE_SAMPLE_DB = 'SNOWFLAKE_SAMPLE_DATA' # Name of Snowflake Sample Database might be different...\n",
    "\n",
    "if TPCDS_SIZE_PARAM == 100: \n",
    "    TPCDS_SCHEMA = 'TPCDS_SF100TCL'\n",
    "elif TPCDS_SIZE_PARAM == 10:\n",
    "    TPCDS_SCHEMA = 'TPCDS_SF10TCL'\n",
    "else:\n",
    "    raise ValueError(\"Invalid TPCDS_SIZE_PARAM selection\")\n",
    "\n",
    "# read the Snowflake marketplace tables into Snowpark dataframes\n",
    "store_sales = session.table(f'{SNOWFLAKE_SAMPLE_DB}.{TPCDS_SCHEMA}.store_sales')\n",
    "catalog_sales = session.table(f'{SNOWFLAKE_SAMPLE_DB}.{TPCDS_SCHEMA}.catalog_sales') \n",
    "web_sales = session.table(f'{SNOWFLAKE_SAMPLE_DB}.{TPCDS_SCHEMA}.web_sales') \n",
    "date = session.table(f'{SNOWFLAKE_SAMPLE_DB}.{TPCDS_SCHEMA}.date_dim')\n",
    "dim_stores = session.table(f'{SNOWFLAKE_SAMPLE_DB}.{TPCDS_SCHEMA}.store')\n",
    "customer = session.table(f'{SNOWFLAKE_SAMPLE_DB}.{TPCDS_SCHEMA}.customer')\n",
    "address = session.table(f'{SNOWFLAKE_SAMPLE_DB}.{TPCDS_SCHEMA}.customer_address')\n",
    "demo = session.table(f'{SNOWFLAKE_SAMPLE_DB}.{TPCDS_SCHEMA}.customer_demographics')"
   ]
  },
  {
   "attachments": {},
   "cell_type": "markdown",
   "metadata": {},
   "source": [
    "## Feature Engineering / Building Feature Table\n",
    "We will aggregate sales by customer across all channels(web, store, catalogue) and join that to customer demographic data. "
   ]
  },
  {
   "cell_type": "code",
   "execution_count": 99,
   "metadata": {},
   "outputs": [],
   "source": [
    "# Grouping all sales by customer and summing them. \n",
    "# note that F.sum() refers to the package snowflake.snowpark.functions\n",
    "# please see documentation here for functions in this library:\n",
    "# https://docs.snowflake.com/ko/developer-guide/snowpark/reference/scala/com/snowflake/snowpark/functions$.html\n",
    "\n",
    "store_sales_agged = store_sales.group_by('ss_customer_sk').agg(F.sum('ss_sales_price').as_('total_sales'))\n",
    "web_sales_agged = web_sales.group_by('ws_bill_customer_sk').agg(F.sum('ws_sales_price').as_('total_sales'))\n",
    "catalog_sales_agged = catalog_sales.group_by('cs_bill_customer_sk').agg(F.sum('cs_sales_price').as_('total_sales'))\n",
    "store_sales_agged = store_sales_agged.rename('ss_customer_sk', 'customer_sk')\n",
    "web_sales_agged = web_sales_agged.rename('ws_bill_customer_sk', 'customer_sk')\n",
    "catalog_sales_agged = catalog_sales_agged.rename('cs_bill_customer_sk', 'customer_sk')"
   ]
  },
  {
   "cell_type": "code",
   "execution_count": 100,
   "metadata": {},
   "outputs": [],
   "source": [
    "# Unioning the sales from the different sales channels into a single snowpark dataframe\n",
    "total_sales = store_sales_agged.union_all(web_sales_agged)\n",
    "total_sales = total_sales.union_all(catalog_sales_agged)"
   ]
  },
  {
   "cell_type": "code",
   "execution_count": 101,
   "metadata": {},
   "outputs": [],
   "source": [
    "# vertically summing the sales from the unioned snowpark dataframe and grouping by customer\n",
    "total_sales = total_sales.group_by('customer_sk').agg(F.sum('total_sales').as_('total_sales'))"
   ]
  },
  {
   "cell_type": "code",
   "execution_count": 102,
   "metadata": {},
   "outputs": [],
   "source": [
    "# query a subset of the customer information into a snowpark dataframe\n",
    "customer = customer.select('c_customer_sk','c_current_hdemo_sk', 'c_current_addr_sk', 'c_customer_id', 'c_birth_year')"
   ]
  },
  {
   "cell_type": "code",
   "execution_count": 103,
   "metadata": {},
   "outputs": [
    {
     "name": "stdout",
     "output_type": "stream",
     "text": [
      "------------------------------------------------------------------------------------------------------------------------------------------------------------------------------------------------------------------------------------------------\n",
      "|\"CUSTOMER_SK\"  |\"C_CURRENT_HDEMO_SK\"  |\"C_CURRENT_ADDR_SK\"  |\"C_CUSTOMER_ID\"   |\"C_BIRTH_YEAR\"  |\"CA_ADDRESS_SK\"  |\"CA_ZIP\"  |\"CD_DEMO_SK\"  |\"CD_GENDER\"  |\"CD_MARITAL_STATUS\"  |\"CD_CREDIT_RATING\"  |\"CD_EDUCATION_STATUS\"  |\"CD_DEP_COUNT\"  |\n",
      "------------------------------------------------------------------------------------------------------------------------------------------------------------------------------------------------------------------------------------------------\n",
      "|28639804       |6777                  |17517826             |AAAAAAAAMDCAFLBA  |1984            |17517826         |76871     |6777          |M            |W                    |Good                |Advanced Degree        |1               |\n",
      "|28639805       |3350                  |13291203             |AAAAAAAANDCAFLBA  |1964            |13291203         |45804     |3350          |F            |U                    |High Risk           |Advanced Degree        |0               |\n",
      "|28639806       |1282                  |26887405             |AAAAAAAAODCAFLBA  |1973            |26887405         |70534     |1282          |F            |M                    |Good                |College                |0               |\n",
      "|28639807       |4105                  |1635191              |AAAAAAAAPDCAFLBA  |1988            |1635191          |86192     |4105          |M            |D                    |High Risk           |4 yr Degree            |0               |\n",
      "|28639808       |2164                  |22834567             |AAAAAAAAAECAFLBA  |1950            |22834567         |83511     |2164          |F            |S                    |Low Risk            |Unknown                |0               |\n",
      "|28639809       |4184                  |7262728              |AAAAAAAABECAFLBA  |1982            |7262728          |20049     |4184          |F            |S                    |High Risk           |Advanced Degree        |0               |\n",
      "|28639810       |3365                  |20448845             |AAAAAAAACECAFLBA  |1955            |20448845         |93592     |3365          |M            |D                    |High Risk           |Primary                |0               |\n",
      "|28639811       |2115                  |7047961              |AAAAAAAADECAFLBA  |1983            |7047961          |56060     |2115          |M            |D                    |Low Risk            |Secondary              |0               |\n",
      "|28639812       |419                   |17571476             |AAAAAAAAEECAFLBA  |1951            |17571476         |24107     |419           |M            |U                    |Good                |Unknown                |0               |\n",
      "|28639813       |6890                  |19873448             |AAAAAAAAFECAFLBA  |1985            |19873448         |29843     |6890          |F            |U                    |Good                |College                |1               |\n",
      "------------------------------------------------------------------------------------------------------------------------------------------------------------------------------------------------------------------------------------------------\n",
      "\n"
     ]
    }
   ],
   "source": [
    "# join the query results to a query subset from the address table\n",
    "customer = customer.join(address.select('ca_address_sk', 'ca_zip'), customer['c_current_addr_sk'] == address['ca_address_sk'] )\n",
    "# join the customer and address query results to demographic information from demo table\n",
    "customer = customer.join(demo.select('cd_demo_sk', 'cd_gender', 'cd_marital_status', 'cd_credit_rating', 'cd_education_status', 'cd_dep_count'),\n",
    "                                customer['c_current_hdemo_sk'] == demo['cd_demo_sk'] )\n",
    "# renaming customer_sk column\n",
    "customer = customer.rename('c_customer_sk', 'customer_sk')\n",
    "customer.show()"
   ]
  },
  {
   "cell_type": "code",
   "execution_count": 104,
   "metadata": {},
   "outputs": [],
   "source": [
    "# join our aggregated sales information to our customer information query results.\n",
    "final_df = total_sales.join(customer, on='customer_sk')"
   ]
  },
  {
   "cell_type": "code",
   "execution_count": null,
   "metadata": {},
   "outputs": [],
   "source": [
    "# write this final snowpark dataframe back to snowflake\n",
    "session.use_database('tpcds_xgboost')\n",
    "session.use_schema('demo')\n",
    "final_df.write.mode('overwrite').save_as_table('feature_store')"
   ]
  },
  {
   "attachments": {},
   "cell_type": "markdown",
   "metadata": {},
   "source": [
    "## Write the same joins in SQL\n",
    "- Highlight the simplicity of snowpark vs sql\n",
    "- Highlight the strength of the query optimizer in snowpark vs sql"
   ]
  },
  {
   "attachments": {},
   "cell_type": "markdown",
   "metadata": {},
   "source": [
    "# Write here how much storage we have down from 10TB onto our snowflake accout"
   ]
  },
  {
   "attachments": {},
   "cell_type": "markdown",
   "metadata": {},
   "source": [
    "## Model Training"
   ]
  },
  {
   "cell_type": "code",
   "execution_count": 5,
   "metadata": {},
   "outputs": [
    {
     "name": "stderr",
     "output_type": "stream",
     "text": [
      "The version of package scikit-learn in the local environment is 1.2.1, which does not fit the criteria for the requirement scikit-learn. Your UDF might not work when the package version is different between the server and your local environment\n",
      "The version of package xgboost in the local environment is 1.7.3, which does not fit the criteria for the requirement xgboost. Your UDF might not work when the package version is different between the server and your local environment\n"
     ]
    }
   ],
   "source": [
    "# create the context for model training\n",
    "session.use_database('tpcds_xgboost')\n",
    "session.use_schema('demo')\n",
    "session.use_warehouse('snowpark_opt_wh')\n",
    "session.add_packages('snowflake-snowpark-python', 'scikit-learn', 'pandas', 'numpy', 'joblib', 'cachetools', 'xgboost', 'joblib')"
   ]
  },
  {
   "cell_type": "code",
   "execution_count": 5,
   "metadata": {},
   "outputs": [
    {
     "data": {
      "text/plain": [
       "[Row(status='Stage area ML_MODELS successfully created.')]"
      ]
     },
     "execution_count": 5,
     "metadata": {},
     "output_type": "execute_result"
    }
   ],
   "source": [
    "# create the stage\n",
    "session.sql('CREATE OR REPLACE STAGE ml_models ').collect()"
   ]
  },
  {
   "cell_type": "code",
   "execution_count": 6,
   "metadata": {},
   "outputs": [
    {
     "name": "stderr",
     "output_type": "stream",
     "text": [
      "/Users/joburns/opt/anaconda3/envs/snowpark_xgboost_tpc/lib/python3.8/site-packages/xgboost/compat.py:36: FutureWarning: pandas.Int64Index is deprecated and will be removed from pandas in a future version. Use pandas.Index with the appropriate dtype instead.\n",
      "  from pandas import MultiIndex, Int64Index\n"
     ]
    }
   ],
   "source": [
    "from sklearn.pipeline import Pipeline\n",
    "from sklearn.impute import SimpleImputer\n",
    "from sklearn.preprocessing import StandardScaler, OneHotEncoder, MinMaxScaler\n",
    "from sklearn.metrics import mean_squared_error\n",
    "from sklearn.compose import ColumnTransformer\n",
    "from xgboost import XGBRegressor\n",
    "import joblib\n",
    "import os\n",
    "\n",
    "def train_model(session: snowflake.snowpark.Session) -> float:\n",
    "    # read the table we assembled in the prior section into a snowpark dataframe\n",
    "    snowdf = session.table(\"feature_store\")\n",
    "    # drop the non-predictor columns\n",
    "    snowdf = snowdf.drop(['CUSTOMER_SK', 'C_CURRENT_HDEMO_SK', 'C_CURRENT_ADDR_SK', 'C_CUSTOMER_ID', 'CA_ADDRESS_SK', 'CD_DEMO_SK'])\n",
    "    # split the data into test/train\n",
    "    snowdf_train, snowdf_test = snowdf.random_split([0.8, 0.2], seed=82) \n",
    "\n",
    "    # save the train and test sets as time stamped tables in Snowflake \n",
    "    snowdf_train.write.mode(\"overwrite\").save_as_table(\"tpcds_xgboost.demo.tpc_TRAIN\")\n",
    "    snowdf_test.write.mode(\"overwrite\").save_as_table(\"tpcds_xgboost.demo.tpc_TEST\")\n",
    "    # drop the outcome for training set\n",
    "    train_x = snowdf_train.drop(\"TOTAL_SALES\").to_pandas()\n",
    "    # select the outcome for training set\n",
    "    train_y = snowdf_train.select(\"TOTAL_SALES\").to_pandas()\n",
    "    # drop the outcome for test set\n",
    "    test_x = snowdf_test.drop(\"TOTAL_SALES\").to_pandas()\n",
    "    # select the outcome for test set\n",
    "    test_y = snowdf_test.select(\"TOTAL_SALES\").to_pandas()\n",
    "    # define the categorical columns for the pipeline feature engineering\n",
    "    cat_cols = ['CA_ZIP', 'CD_GENDER', 'CD_MARITAL_STATUS', 'CD_CREDIT_RATING', 'CD_EDUCATION_STATUS']\n",
    "    # define the numerical columns for the pipeline feature engineering\n",
    "    num_cols = ['C_BIRTH_YEAR', 'CD_DEP_COUNT']\n",
    "\n",
    "    # define the numerical portion of the pipeline\n",
    "    num_pipeline = Pipeline([\n",
    "            ('imputer', SimpleImputer(strategy=\"median\")),\n",
    "            ('std_scaler', StandardScaler()),\n",
    "        ])\n",
    "\n",
    "    # define the pre-processor\n",
    "    preprocessor = ColumnTransformer(\n",
    "    transformers=[('num', num_pipeline, num_cols),\n",
    "                  ('encoder', OneHotEncoder(handle_unknown=\"ignore\"), cat_cols) ])\n",
    "\n",
    "    # assemble the pipe with pre-processor and model\n",
    "    pipe = Pipeline([('preprocessor', preprocessor), \n",
    "                        ('xgboost', XGBRegressor())])\n",
    "    # fit the data with pre-processing and model\n",
    "    pipe.fit(train_x, train_y)\n",
    "\n",
    "    # predict the outcomes for test data\n",
    "    test_preds = pipe.predict(test_x)\n",
    "    # calculate the error between predictions and actuals for test data\n",
    "    rmse = mean_squared_error(test_y, test_preds)\n",
    "    # define path for pipe and model file\n",
    "    model_file = os.path.join('/tmp', 'model.joblib')\n",
    "    # dump model pipe and model to joblib file\n",
    "    joblib.dump(pipe, model_file)\n",
    "    # put the joblib file in the ml_models stage\n",
    "    session.file.put(model_file, \"@ml_models\",overwrite=True)\n",
    "    return rmse"
   ]
  },
  {
   "cell_type": "code",
   "execution_count": 7,
   "metadata": {},
   "outputs": [
    {
     "data": {
      "text/plain": [
       "34213493.08788544"
      ]
     },
     "execution_count": 7,
     "metadata": {},
     "output_type": "execute_result"
    }
   ],
   "source": [
    "# create the stored procedure\n",
    "train_model_sp = F.sproc(train_model, session=session, replace=True)\n",
    "# Switch to Snowpark Optimized Warehouse for training and to run the stored proc\n",
    "session.use_warehouse('snowpark_opt_wh')\n",
    "# run the stored procedure\n",
    "train_model_sp(session=session)"
   ]
  },
  {
   "attachments": {},
   "cell_type": "markdown",
   "metadata": {},
   "source": [
    "## Infer Predictions Using Stored Model"
   ]
  },
  {
   "cell_type": "code",
   "execution_count": 6,
   "metadata": {},
   "outputs": [],
   "source": [
    "# Switch back to feature engineering/inference warehouse\n",
    "session.use_warehouse('FE_AND_INFERENCE_WH')\n",
    "session.use_database('TPCDS_XGBOOST')\n",
    "session.use_schema('DEMO')"
   ]
  },
  {
   "cell_type": "code",
   "execution_count": 7,
   "metadata": {},
   "outputs": [],
   "source": [
    "import sys\n",
    "import pandas as pd\n",
    "import cachetools\n",
    "import joblib\n",
    "from snowflake.snowpark import types as T\n",
    "\n",
    "# importing pipe file from stage into import directory\n",
    "session.add_import(\"@ml_models/model.joblib.gz\")\n",
    "\n",
    "# defining featurelist\n",
    "features = ['C_BIRTH_YEAR', 'CA_ZIP', 'CD_GENDER', 'CD_MARITAL_STATUS', 'CD_CREDIT_RATING', 'CD_EDUCATION_STATUS', 'CD_DEP_COUNT']\n",
    "\n",
    "# clearing the cache\n",
    "@cachetools.cached(cache={})\n",
    "\n",
    "def read_file(filename):\n",
    "       # snowflake import directory exists on snowflake\n",
    "       import_dir = sys._xoptions.get(\"snowflake_import_directory\")\n",
    "       \n",
    "       # reading the file pip into session\n",
    "       if import_dir:\n",
    "              with open(os.path.join(import_dir, filename), 'rb') as file:\n",
    "                     m = joblib.load(file)\n",
    "                     return m\n",
    "\n",
    "# creating the udf on snowflake. The @ symbol will take whatever function follows and attribute it to the udf.\n",
    "@F.pandas_udf(session=session, max_batch_size=10000, is_permanent=True, stage_location='@ml_models', name=\"clv_xgboost_udf\", replace=True)\n",
    "\n",
    "\n",
    "# naming and defining the UDF as predict\n",
    "def predict(df:  T.PandasDataFrame[int, str, str, str, str, str, int]) -> T.PandasSeries[float]:\n",
    "       m = read_file('model.joblib.gz')\n",
    "       # m = read_file(\"@mlmodels/model.joblib.gz\")\n",
    "\n",
    "       df.columns = features\n",
    "       \n",
    "       return m.predict(df)"
   ]
  },
  {
   "cell_type": "code",
   "execution_count": 8,
   "metadata": {},
   "outputs": [
    {
     "name": "stdout",
     "output_type": "stream",
     "text": [
      "CPU times: user 18.6 ms, sys: 3.98 ms, total: 22.5 ms\n",
      "Wall time: 56 s\n"
     ]
    }
   ],
   "source": [
    "%%time\n",
    "# read our prepared feature store table in our Snowflake account storage into Snowpark dataframe\n",
    "inference_df = session.table('feature_store')\n",
    "# drop the non-feature columns\n",
    "inference_df = inference_df.drop(['CUSTOMER_SK', 'C_CURRENT_HDEMO_SK', 'C_CURRENT_ADDR_SK', 'C_CUSTOMER_ID', 'CA_ADDRESS_SK', 'CD_DEMO_SK'])\n",
    "# drop the outcome\n",
    "inputs = inference_df.drop(\"TOTAL_SALES\")\n",
    "# call the udf for inference\n",
    "snowdf_results = inference_df.select(*inputs,\n",
    "                    predict(*inputs).alias('PREDICTION'), \n",
    "                    (F.col('TOTAL_SALES')).alias('ACTUAL_SALES')\n",
    "                    )\n",
    "# write the results to a table in snowflake\n",
    "snowdf_results.write.mode('overwrite').save_as_table('predictions')"
   ]
  },
  {
   "cell_type": "code",
   "execution_count": 9,
   "metadata": {},
   "outputs": [
    {
     "data": {
      "text/plain": [
       "62726989"
      ]
     },
     "execution_count": 9,
     "metadata": {},
     "output_type": "execute_result"
    }
   ],
   "source": [
    "snowdf_results.count()"
   ]
  },
  {
   "attachments": {},
   "cell_type": "markdown",
   "metadata": {},
   "source": [
    "# UNDER CONSTRUCTION UNDER HERE"
   ]
  },
  {
   "attachments": {},
   "cell_type": "markdown",
   "metadata": {},
   "source": [
    "## Streams and Tasks (Change Data Capture and Scheduling)\n",
    "- Still need to get metadeta to reset for update"
   ]
  },
  {
   "cell_type": "code",
   "execution_count": 3,
   "metadata": {},
   "outputs": [],
   "source": [
    "# delete me, just for piecework to set context\n",
    "session.use_database('TPCDS_XGBOOST')\n",
    "session.use_schema('DEMO')\n",
    "session.use_warehouse('compute_wh')\n",
    "session.use_role('ACCOUNTADMIN')"
   ]
  },
  {
   "attachments": {},
   "cell_type": "markdown",
   "metadata": {},
   "source": [
    "create or replace TABLE ROI_PRED (\n",
    "\tSEARCH_ENGINE NUMBER(38,0),\n",
    "\tSOCIAL_MEDIA NUMBER(38,0),\n",
    "\tVIDEO NUMBER(38,0),\n",
    "\tEMAIL NUMBER(38,0),\n",
    "\tPREDICTED_ROI FLOAT\n",
    ")"
   ]
  },
  {
   "cell_type": "code",
   "execution_count": 84,
   "metadata": {},
   "outputs": [
    {
     "data": {
      "text/plain": [
       "[Row(status='Table FEATURE_STAGE successfully created.')]"
      ]
     },
     "execution_count": 84,
     "metadata": {},
     "output_type": "execute_result"
    }
   ],
   "source": [
    "session.sql('drop table feature_stage').collect()\n",
    "session.sql(\"\"\"\n",
    "\tcreate or replace TABLE feature_stage (\n",
    "\tCUSTOMER_SK VARCHAR(50),\n",
    "\tTOTAL_SALES NUMBER(38,2),\n",
    "\tC_CURRENT_HDEMO_SK VARCHAR(50),\n",
    "\tC_CURRENT_ADDR_SK VARCHAR(50),\n",
    "\tC_CUSTOMER_ID VARCHAR(50),\n",
    "\tC_BIRTH_YEAR NUMBER(38,0),\n",
    "\tCA_ADDRESS_SK NUMBER(38,0),\n",
    "\tCA_ZIP NUMBER(38,0),\n",
    "\tCD_DEMO_SK NUMBER(38,0),\n",
    "\tCD_GENDER VARCHAR(50),\n",
    "\tCD_MARITAL_STATUS VARCHAR(50),\n",
    "\tCD_CREDIT_RATING VARCHAR(50),\n",
    "    CD_EDUCATION_STATUS VARCHAR(50),\n",
    "\tCD_DEP_COUNT NUMBER(38,0),\n",
    "\tPREDICTION NUMBER(38,0)\n",
    ")\n",
    "\"\"\").collect()"
   ]
  },
  {
   "cell_type": "code",
   "execution_count": 85,
   "metadata": {},
   "outputs": [
    {
     "data": {
      "text/plain": [
       "[Row(status='Stream XG_BOOST_STREAM successfully created.')]"
      ]
     },
     "execution_count": 85,
     "metadata": {},
     "output_type": "execute_result"
    }
   ],
   "source": [
    "session.sql(\"\"\"\n",
    "create or replace stream xg_boost_stream on table feature_stage;\n",
    "\"\"\").collect()"
   ]
  },
  {
   "cell_type": "code",
   "execution_count": 86,
   "metadata": {},
   "outputs": [
    {
     "name": "stdout",
     "output_type": "stream",
     "text": [
      "--------------------------------------------------------------------------------------------------------------------------------------------------------------------------------------------------------------------------------------------------------------------------------------------------------------------------------------------\n",
      "|\"CUSTOMER_SK\"  |\"TOTAL_SALES\"  |\"C_CURRENT_HDEMO_SK\"  |\"C_CURRENT_ADDR_SK\"  |\"C_CUSTOMER_ID\"  |\"C_BIRTH_YEAR\"  |\"CA_ADDRESS_SK\"  |\"CA_ZIP\"  |\"CD_DEMO_SK\"  |\"CD_GENDER\"  |\"CD_MARITAL_STATUS\"  |\"CD_CREDIT_RATING\"  |\"CD_EDUCATION_STATUS\"  |\"CD_DEP_COUNT\"  |\"PREDICTION\"  |\"METADATA$ACTION\"  |\"METADATA$ISUPDATE\"  |\"METADATA$ROW_ID\"  |\n",
      "--------------------------------------------------------------------------------------------------------------------------------------------------------------------------------------------------------------------------------------------------------------------------------------------------------------------------------------------\n",
      "|               |               |                      |                     |                 |                |                 |          |              |             |                     |                    |                       |                |              |                   |                     |                   |\n",
      "--------------------------------------------------------------------------------------------------------------------------------------------------------------------------------------------------------------------------------------------------------------------------------------------------------------------------------------------\n",
      "\n"
     ]
    }
   ],
   "source": [
    "# features = ['C_BIRTH_YEAR', 'CA_ZIP', 'CD_GENDER', 'CD_MARITAL_STATUS', 'CD_CREDIT_RATING', 'CD_EDUCATION_STATUS', 'CD_DEP_COUNT']\n",
    "session.sql(\"select * from xg_boost_stream\").show()\n",
    "feature_store = session.table('feature_store')\n",
    "el_df = feature_store.select(\"*\").distinct().limit(100)\n",
    "el_df = el_df.withColumn('PREDICTION', F.lit(None).cast(DoubleType()))\n",
    "el_df.write.mode('append').save_as_table('feature_stage')"
   ]
  },
  {
   "cell_type": "code",
   "execution_count": 87,
   "metadata": {},
   "outputs": [
    {
     "name": "stdout",
     "output_type": "stream",
     "text": [
      "--------------------------------------------------------------------------------------------------------------------------------------------------------------------------------------------------------------------------------------------------------------------------------------------------------------------------------------------------------------------\n",
      "|\"CUSTOMER_SK\"  |\"TOTAL_SALES\"  |\"C_CURRENT_HDEMO_SK\"  |\"C_CURRENT_ADDR_SK\"  |\"C_CUSTOMER_ID\"   |\"C_BIRTH_YEAR\"  |\"CA_ADDRESS_SK\"  |\"CA_ZIP\"  |\"CD_DEMO_SK\"  |\"CD_GENDER\"  |\"CD_MARITAL_STATUS\"  |\"CD_CREDIT_RATING\"  |\"CD_EDUCATION_STATUS\"  |\"CD_DEP_COUNT\"  |\"PREDICTION\"  |\"METADATA$ACTION\"  |\"METADATA$ISUPDATE\"  |\"METADATA$ROW_ID\"                         |\n",
      "--------------------------------------------------------------------------------------------------------------------------------------------------------------------------------------------------------------------------------------------------------------------------------------------------------------------------------------------------------------------\n",
      "|60191755       |43455.91       |6119                  |23899421             |AAAAAAAALAEHGJDA  |1957            |23899421         |64593     |6119          |M            |U                    |Good                |College                |1               |NULL          |INSERT             |False                |b7fc8b0c6b3e422addc495a013dcd2108db304c3  |\n",
      "|2576612        |30590.90       |6119                  |17030779             |AAAAAAAAEOAFHCAA  |1928            |17030779         |39101     |6119          |M            |U                    |Good                |College                |1               |NULL          |INSERT             |False                |c6b3d338e200620187d47122c2155e092bc6b7e4  |\n",
      "|23925792       |28393.71       |6119                  |11125744             |AAAAAAAAACEBNGBA  |1954            |11125744         |61757     |6119          |M            |U                    |Good                |College                |1               |NULL          |INSERT             |False                |148eb31cd172c9da84f473b751b308d5f73e6d79  |\n",
      "|46586047       |29449.56       |3265                  |32419800             |AAAAAAAAPLINGMCA  |1927            |32419800         |NULL      |3265          |M            |D                    |High Risk           |4 yr Degree            |0               |NULL          |INSERT             |False                |a0cfba860401f0ce52f85c57828ace895f8b5ae5  |\n",
      "|16989230       |46382.78       |60                    |19364410             |AAAAAAAAOCMDDABA  |1961            |19364410         |54098     |60            |F            |U                    |Good                |Advanced Degree        |0               |NULL          |INSERT             |False                |eac34e3ffacbae5d1527bccf5bde9be736eec97a  |\n",
      "|50181817       |28287.55       |5790                  |21123732             |AAAAAAAAJLGLNPCA  |1943            |21123732         |56386     |5790          |F            |U                    |Good                |4 yr Degree            |1               |NULL          |INSERT             |False                |0f07a6ba7ce4db65b38126d2c6ce1bc79de7d2a8  |\n",
      "|62709040       |36859.23       |5790                  |30536207             |AAAAAAAAADNNMLDA  |1974            |30536207         |30059     |5790          |F            |U                    |Good                |4 yr Degree            |1               |NULL          |INSERT             |False                |23480ea9b7e16a2cf5de63552bc48c77400c2281  |\n",
      "|32584718       |29114.47       |5790                  |4587139              |AAAAAAAAOAEDBPBA  |1965            |4587139          |29843     |5790          |F            |U                    |Good                |4 yr Degree            |1               |NULL          |INSERT             |False                |3ac0f213a06893668cf705099c0b59256e75895c  |\n",
      "|64220586       |31732.80       |3247                  |5838205              |AAAAAAAAKKNODNDA  |1964            |5838205          |36867     |3247          |M            |W                    |High Risk           |College                |0               |NULL          |INSERT             |False                |e5537c21a29455be2ff45c0d1d96b4e9ae946660  |\n",
      "|17436060       |43204.22       |6727                  |31511141             |AAAAAAAAMJNAKABA  |1947            |31511141         |71675     |6727          |M            |W                    |Good                |Primary                |1               |NULL          |INSERT             |False                |dc7c7c78b51308be8ea4aee2b5966909d9ffc91e  |\n",
      "--------------------------------------------------------------------------------------------------------------------------------------------------------------------------------------------------------------------------------------------------------------------------------------------------------------------------------------------------------------------\n",
      "\n"
     ]
    }
   ],
   "source": [
    "session.sql(\"select * from xg_boost_stream\").show()\n"
   ]
  },
  {
   "cell_type": "code",
   "execution_count": 88,
   "metadata": {},
   "outputs": [
    {
     "name": "stdout",
     "output_type": "stream",
     "text": [
      "--------------------------------------------------------------------------------------------------------------------------------------------------------------------------------------------------------------------------------------------------------------------------------------------------------------------------------------------------------------------\n",
      "|\"CUSTOMER_SK\"  |\"TOTAL_SALES\"  |\"C_CURRENT_HDEMO_SK\"  |\"C_CURRENT_ADDR_SK\"  |\"C_CUSTOMER_ID\"   |\"C_BIRTH_YEAR\"  |\"CA_ADDRESS_SK\"  |\"CA_ZIP\"  |\"CD_DEMO_SK\"  |\"CD_GENDER\"  |\"CD_MARITAL_STATUS\"  |\"CD_CREDIT_RATING\"  |\"CD_EDUCATION_STATUS\"  |\"CD_DEP_COUNT\"  |\"PREDICTION\"  |\"METADATA$ACTION\"  |\"METADATA$ISUPDATE\"  |\"METADATA$ROW_ID\"                         |\n",
      "--------------------------------------------------------------------------------------------------------------------------------------------------------------------------------------------------------------------------------------------------------------------------------------------------------------------------------------------------------------------\n",
      "|60191755       |43455.91       |6119                  |23899421             |AAAAAAAALAEHGJDA  |1957            |23899421         |64593     |6119          |M            |U                    |Good                |College                |1               |NULL          |INSERT             |False                |b7fc8b0c6b3e422addc495a013dcd2108db304c3  |\n",
      "|2576612        |30590.90       |6119                  |17030779             |AAAAAAAAEOAFHCAA  |1928            |17030779         |39101     |6119          |M            |U                    |Good                |College                |1               |NULL          |INSERT             |False                |c6b3d338e200620187d47122c2155e092bc6b7e4  |\n",
      "|23925792       |28393.71       |6119                  |11125744             |AAAAAAAAACEBNGBA  |1954            |11125744         |61757     |6119          |M            |U                    |Good                |College                |1               |NULL          |INSERT             |False                |148eb31cd172c9da84f473b751b308d5f73e6d79  |\n",
      "|46586047       |29449.56       |3265                  |32419800             |AAAAAAAAPLINGMCA  |1927            |32419800         |NULL      |3265          |M            |D                    |High Risk           |4 yr Degree            |0               |NULL          |INSERT             |False                |a0cfba860401f0ce52f85c57828ace895f8b5ae5  |\n",
      "|16989230       |46382.78       |60                    |19364410             |AAAAAAAAOCMDDABA  |1961            |19364410         |54098     |60            |F            |U                    |Good                |Advanced Degree        |0               |NULL          |INSERT             |False                |eac34e3ffacbae5d1527bccf5bde9be736eec97a  |\n",
      "|50181817       |28287.55       |5790                  |21123732             |AAAAAAAAJLGLNPCA  |1943            |21123732         |56386     |5790          |F            |U                    |Good                |4 yr Degree            |1               |NULL          |INSERT             |False                |0f07a6ba7ce4db65b38126d2c6ce1bc79de7d2a8  |\n",
      "|62709040       |36859.23       |5790                  |30536207             |AAAAAAAAADNNMLDA  |1974            |30536207         |30059     |5790          |F            |U                    |Good                |4 yr Degree            |1               |NULL          |INSERT             |False                |23480ea9b7e16a2cf5de63552bc48c77400c2281  |\n",
      "|32584718       |29114.47       |5790                  |4587139              |AAAAAAAAOAEDBPBA  |1965            |4587139          |29843     |5790          |F            |U                    |Good                |4 yr Degree            |1               |NULL          |INSERT             |False                |3ac0f213a06893668cf705099c0b59256e75895c  |\n",
      "|64220586       |31732.80       |3247                  |5838205              |AAAAAAAAKKNODNDA  |1964            |5838205          |36867     |3247          |M            |W                    |High Risk           |College                |0               |NULL          |INSERT             |False                |e5537c21a29455be2ff45c0d1d96b4e9ae946660  |\n",
      "|17436060       |43204.22       |6727                  |31511141             |AAAAAAAAMJNAKABA  |1947            |31511141         |71675     |6727          |M            |W                    |Good                |Primary                |1               |NULL          |INSERT             |False                |dc7c7c78b51308be8ea4aee2b5966909d9ffc91e  |\n",
      "--------------------------------------------------------------------------------------------------------------------------------------------------------------------------------------------------------------------------------------------------------------------------------------------------------------------------------------------------------------------\n",
      "\n",
      "-----------------------------------------------------------------------------------------------------------------------------------------------------------------------------------------------------------------------------------------------------------------------------------\n",
      "|\"C_BIRTH_YEAR\"  |\"CA_ZIP\"  |\"CD_GENDER\"  |\"CD_MARITAL_STATUS\"  |\"CD_CREDIT_RATING\"  |\"CD_EDUCATION_STATUS\"  |\"CD_DEP_COUNT\"  |\"PREDICTION\"     |\"ACTUAL_SALES\"  |\"CUSTOMER_SK\"  |\"C_CURRENT_ADDR_SK\"  |\"C_CURRENT_HDEMO_SK\"  |\"C_CUSTOMER_ID\"   |\"CA_ADDRESS_SK\"  |\"CD_DEMO_SK\"  |\n",
      "-----------------------------------------------------------------------------------------------------------------------------------------------------------------------------------------------------------------------------------------------------------------------------------\n",
      "|1957            |64593     |M            |U                    |Good                |College                |1               |32338.287109375  |43455.91        |60191755       |23899421             |6119                  |AAAAAAAALAEHGJDA  |23899421         |6119          |\n",
      "|1928            |39101     |M            |U                    |Good                |College                |1               |32338.287109375  |30590.90        |2576612        |17030779             |6119                  |AAAAAAAAEOAFHCAA  |17030779         |6119          |\n",
      "|1954            |61757     |M            |U                    |Good                |College                |1               |32338.287109375  |28393.71        |23925792       |11125744             |6119                  |AAAAAAAAACEBNGBA  |11125744         |6119          |\n",
      "|1927            |NULL      |M            |D                    |High Risk           |4 yr Degree            |0               |32338.287109375  |29449.56        |46586047       |32419800             |3265                  |AAAAAAAAPLINGMCA  |32419800         |3265          |\n",
      "|1961            |54098     |F            |U                    |Good                |Advanced Degree        |0               |32339.705078125  |46382.78        |16989230       |19364410             |60                    |AAAAAAAAOCMDDABA  |19364410         |60            |\n",
      "|1943            |56386     |F            |U                    |Good                |4 yr Degree            |1               |32338.287109375  |28287.55        |50181817       |21123732             |5790                  |AAAAAAAAJLGLNPCA  |21123732         |5790          |\n",
      "|1974            |30059     |F            |U                    |Good                |4 yr Degree            |1               |32338.287109375  |36859.23        |62709040       |30536207             |5790                  |AAAAAAAAADNNMLDA  |30536207         |5790          |\n",
      "|1965            |29843     |F            |U                    |Good                |4 yr Degree            |1               |32338.287109375  |29114.47        |32584718       |4587139              |5790                  |AAAAAAAAOAEDBPBA  |4587139          |5790          |\n",
      "|1964            |36867     |M            |W                    |High Risk           |College                |0               |32338.287109375  |31732.80        |64220586       |5838205              |3247                  |AAAAAAAAKKNODNDA  |5838205          |3247          |\n",
      "|1947            |71675     |M            |W                    |Good                |Primary                |1               |32354.857421875  |43204.22        |17436060       |31511141             |6727                  |AAAAAAAAMJNAKABA  |31511141         |6727          |\n",
      "-----------------------------------------------------------------------------------------------------------------------------------------------------------------------------------------------------------------------------------------------------------------------------------\n",
      "\n"
     ]
    }
   ],
   "source": [
    "# read our prepared feature store table in our Snowflake account storage into Snowpark dataframe\n",
    "feature_stage = session.table('feature_stage')\n",
    "base_table = session.table('xg_boost_stream').filter((col('METADATA$ACTION') == 'INSERT') & col(\"PREDICTION\").isNull())\n",
    "base_table.show()\n",
    "\n",
    "# drop the non-feature columns\n",
    "inference_df = base_table.drop(['C_CURRENT_HDEMO_SK', 'C_CURRENT_ADDR_SK', 'C_CUSTOMER_ID', 'CA_ADDRESS_SK', 'CD_DEMO_SK', \"METADATA$ACTION\", \"METADATA$ISUPDATE\", \"METADATA$ROW_ID\"])\n",
    "# drop the outcome\n",
    "inputs = inference_df.drop([\"TOTAL_SALES\", \"CUSTOMER_SK\", \"PREDICTION\"])\n",
    "\n",
    "# call the udf for inference\n",
    "snowdf_results = feature_stage.select(*inputs,\n",
    "                    predict(*inputs).alias('PREDICTION'), \n",
    "                    (F.col('TOTAL_SALES')).alias('ACTUAL_SALES'),\n",
    "                    (F.col('CUSTOMER_SK')),\n",
    "                    (F.col('C_CURRENT_ADDR_SK')),\n",
    "                    F.col('C_CURRENT_HDEMO_SK'),\n",
    "                    F.col('C_CUSTOMER_ID'),\n",
    "                    F.col('CA_ADDRESS_SK'),\n",
    "                    F.col('CD_DEMO_SK'),\n",
    "                    )\n",
    "snowdf_results.show()"
   ]
  },
  {
   "cell_type": "code",
   "execution_count": 92,
   "metadata": {},
   "outputs": [
    {
     "data": {
      "text/plain": [
       "MergeResult(rows_inserted=0, rows_updated=100, rows_deleted=0)"
      ]
     },
     "execution_count": 92,
     "metadata": {},
     "output_type": "execute_result"
    }
   ],
   "source": [
    "session.sql(\"ALTER SESSION SET ERROR_ON_NONDETERMINISTIC_MERGE = FALSE;\").collect()\n",
    "feature_stage.merge(snowdf_results, (feature_stage['CUSTOMER_SK'] == snowdf_results[\"CUSTOMER_SK\"]) & \\\n",
    "                                    (feature_stage[\"C_BIRTH_YEAR\"] == snowdf_results[\"C_BIRTH_YEAR\"]) & \\\n",
    "                                    (feature_stage['CA_ZIP'] == snowdf_results[\"CA_ZIP\"]) & \\\n",
    "                                    (feature_stage['CD_GENDER'] == snowdf_results[\"CD_GENDER\"]) & \\\n",
    "                                    (feature_stage['CD_MARITAL_STATUS'] == snowdf_results[\"CD_MARITAL_STATUS\"]) & \\\n",
    "                                    (feature_stage['CD_CREDIT_RATING'] == snowdf_results[\"CD_CREDIT_RATING\"]) & \\\n",
    "                                    (feature_stage['CD_EDUCATION_STATUS'] == snowdf_results[\"CD_EDUCATION_STATUS\"]) & \\\n",
    "                                    (feature_stage['CD_DEP_COUNT'] == snowdf_results[\"CD_DEP_COUNT\"]), \n",
    "                    [F.when_matched().update({\"PREDICTION\" : snowdf_results['PREDICTION']})])"
   ]
  },
  {
   "cell_type": "code",
   "execution_count": 94,
   "metadata": {},
   "outputs": [
    {
     "name": "stdout",
     "output_type": "stream",
     "text": [
      "-------------------------------------------------------------------------------------------------------------------------------------------------------------------------------------------------------------------------------------------------------------------------------\n",
      "|\"CUSTOMER_SK\"  |\"TOTAL_SALES\"  |\"C_CURRENT_HDEMO_SK\"  |\"C_CURRENT_ADDR_SK\"  |\"C_CUSTOMER_ID\"   |\"C_BIRTH_YEAR\"  |\"CA_ADDRESS_SK\"  |\"CA_ZIP\"  |\"CD_DEMO_SK\"  |\"CD_GENDER\"  |\"CD_MARITAL_STATUS\"  |\"CD_CREDIT_RATING\"  |\"CD_EDUCATION_STATUS\"  |\"CD_DEP_COUNT\"  |\"PREDICTION\"  |\n",
      "-------------------------------------------------------------------------------------------------------------------------------------------------------------------------------------------------------------------------------------------------------------------------------\n",
      "|60191755       |43455.91       |6119                  |23899421             |AAAAAAAALAEHGJDA  |1957            |23899421         |64593     |6119          |M            |U                    |Good                |College                |1               |32338         |\n",
      "|2576612        |30590.90       |6119                  |17030779             |AAAAAAAAEOAFHCAA  |1928            |17030779         |39101     |6119          |M            |U                    |Good                |College                |1               |32338         |\n",
      "|23925792       |28393.71       |6119                  |11125744             |AAAAAAAAACEBNGBA  |1954            |11125744         |61757     |6119          |M            |U                    |Good                |College                |1               |32338         |\n",
      "|46586047       |29449.56       |3265                  |32419800             |AAAAAAAAPLINGMCA  |1927            |32419800         |NULL      |3265          |M            |D                    |High Risk           |4 yr Degree            |0               |32338         |\n",
      "|16989230       |46382.78       |60                    |19364410             |AAAAAAAAOCMDDABA  |1961            |19364410         |54098     |60            |F            |U                    |Good                |Advanced Degree        |0               |32338         |\n",
      "|50181817       |28287.55       |5790                  |21123732             |AAAAAAAAJLGLNPCA  |1943            |21123732         |56386     |5790          |F            |U                    |Good                |4 yr Degree            |1               |32338         |\n",
      "|62709040       |36859.23       |5790                  |30536207             |AAAAAAAAADNNMLDA  |1974            |30536207         |30059     |5790          |F            |U                    |Good                |4 yr Degree            |1               |32338         |\n",
      "|32584718       |29114.47       |5790                  |4587139              |AAAAAAAAOAEDBPBA  |1965            |4587139          |29843     |5790          |F            |U                    |Good                |4 yr Degree            |1               |32338         |\n",
      "|64220586       |31732.80       |3247                  |5838205              |AAAAAAAAKKNODNDA  |1964            |5838205          |36867     |3247          |M            |W                    |High Risk           |College                |0               |32269         |\n",
      "|17436060       |43204.22       |6727                  |31511141             |AAAAAAAAMJNAKABA  |1947            |31511141         |71675     |6727          |M            |W                    |Good                |Primary                |1               |32338         |\n",
      "-------------------------------------------------------------------------------------------------------------------------------------------------------------------------------------------------------------------------------------------------------------------------------\n",
      "\n",
      "--------------------------------------------------------------------------------------------------------------------------------------------------------------------------------------------------------------------------------------------------------------------------------------------------------------------------------------------------------------------\n",
      "|\"CUSTOMER_SK\"  |\"TOTAL_SALES\"  |\"C_CURRENT_HDEMO_SK\"  |\"C_CURRENT_ADDR_SK\"  |\"C_CUSTOMER_ID\"   |\"C_BIRTH_YEAR\"  |\"CA_ADDRESS_SK\"  |\"CA_ZIP\"  |\"CD_DEMO_SK\"  |\"CD_GENDER\"  |\"CD_MARITAL_STATUS\"  |\"CD_CREDIT_RATING\"  |\"CD_EDUCATION_STATUS\"  |\"CD_DEP_COUNT\"  |\"PREDICTION\"  |\"METADATA$ACTION\"  |\"METADATA$ISUPDATE\"  |\"METADATA$ROW_ID\"                         |\n",
      "--------------------------------------------------------------------------------------------------------------------------------------------------------------------------------------------------------------------------------------------------------------------------------------------------------------------------------------------------------------------\n",
      "|60191755       |43455.91       |6119                  |23899421             |AAAAAAAALAEHGJDA  |1957            |23899421         |64593     |6119          |M            |U                    |Good                |College                |1               |32338         |INSERT             |False                |b7fc8b0c6b3e422addc495a013dcd2108db304c3  |\n",
      "|2576612        |30590.90       |6119                  |17030779             |AAAAAAAAEOAFHCAA  |1928            |17030779         |39101     |6119          |M            |U                    |Good                |College                |1               |32338         |INSERT             |False                |c6b3d338e200620187d47122c2155e092bc6b7e4  |\n",
      "|23925792       |28393.71       |6119                  |11125744             |AAAAAAAAACEBNGBA  |1954            |11125744         |61757     |6119          |M            |U                    |Good                |College                |1               |32338         |INSERT             |False                |148eb31cd172c9da84f473b751b308d5f73e6d79  |\n",
      "|46586047       |29449.56       |3265                  |32419800             |AAAAAAAAPLINGMCA  |1927            |32419800         |NULL      |3265          |M            |D                    |High Risk           |4 yr Degree            |0               |32338         |INSERT             |False                |a0cfba860401f0ce52f85c57828ace895f8b5ae5  |\n",
      "|16989230       |46382.78       |60                    |19364410             |AAAAAAAAOCMDDABA  |1961            |19364410         |54098     |60            |F            |U                    |Good                |Advanced Degree        |0               |32338         |INSERT             |False                |eac34e3ffacbae5d1527bccf5bde9be736eec97a  |\n",
      "|50181817       |28287.55       |5790                  |21123732             |AAAAAAAAJLGLNPCA  |1943            |21123732         |56386     |5790          |F            |U                    |Good                |4 yr Degree            |1               |32338         |INSERT             |False                |0f07a6ba7ce4db65b38126d2c6ce1bc79de7d2a8  |\n",
      "|62709040       |36859.23       |5790                  |30536207             |AAAAAAAAADNNMLDA  |1974            |30536207         |30059     |5790          |F            |U                    |Good                |4 yr Degree            |1               |32338         |INSERT             |False                |23480ea9b7e16a2cf5de63552bc48c77400c2281  |\n",
      "|32584718       |29114.47       |5790                  |4587139              |AAAAAAAAOAEDBPBA  |1965            |4587139          |29843     |5790          |F            |U                    |Good                |4 yr Degree            |1               |32338         |INSERT             |False                |3ac0f213a06893668cf705099c0b59256e75895c  |\n",
      "|64220586       |31732.80       |3247                  |5838205              |AAAAAAAAKKNODNDA  |1964            |5838205          |36867     |3247          |M            |W                    |High Risk           |College                |0               |32269         |INSERT             |False                |e5537c21a29455be2ff45c0d1d96b4e9ae946660  |\n",
      "|17436060       |43204.22       |6727                  |31511141             |AAAAAAAAMJNAKABA  |1947            |31511141         |71675     |6727          |M            |W                    |Good                |Primary                |1               |32338         |INSERT             |False                |dc7c7c78b51308be8ea4aee2b5966909d9ffc91e  |\n",
      "--------------------------------------------------------------------------------------------------------------------------------------------------------------------------------------------------------------------------------------------------------------------------------------------------------------------------------------------------------------------\n",
      "\n"
     ]
    }
   ],
   "source": [
    "feature_stage.show()\n",
    "session.sql(\"select * from xg_boost_stream\").show()"
   ]
  },
  {
   "cell_type": "markdown",
   "metadata": {},
   "source": []
  }
 ],
 "metadata": {
  "kernelspec": {
   "display_name": "snowpark_xgboost_tpc",
   "language": "python",
   "name": "python3"
  },
  "language_info": {
   "codemirror_mode": {
    "name": "ipython",
    "version": 3
   },
   "file_extension": ".py",
   "mimetype": "text/x-python",
   "name": "python",
   "nbconvert_exporter": "python",
   "pygments_lexer": "ipython3",
   "version": "3.8.15 (default, Nov 24 2022, 09:04:07) \n[Clang 14.0.6 ]"
  },
  "orig_nbformat": 4,
  "vscode": {
   "interpreter": {
    "hash": "fcfdc034273e802ebd01bbd2603db0d37177560e2a6064b134fcd059a41cd3fa"
   }
  }
 },
 "nbformat": 4,
 "nbformat_minor": 2
}
